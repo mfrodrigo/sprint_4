{
 "cells": [
  {
   "cell_type": "code",
   "execution_count": 12,
   "metadata": {},
   "outputs": [],
   "source": [
    "# Codigo para filtrar palavras chaves de um arquivo .csv\n",
    "\n",
    "# libraries \n",
    "import csv\n",
    "import pandas as pd\n",
    "from unidecode import unidecode\n",
    "import re"
   ]
  },
  {
   "cell_type": "code",
   "execution_count": 61,
   "metadata": {},
   "outputs": [],
   "source": [
    "# Open .csv \n",
    "file = 'sample100k.csv'\n",
    "\n",
    "tweet = []\n",
    "with open(file, 'r' ) as sample:\n",
    "    data = csv.reader(sample, delimiter  = ';')\n",
    "    next(data) \n",
    "    for row in data:\n",
    "        tweet.append(row)"
   ]
  },
  {
   "cell_type": "code",
   "execution_count": 135,
   "metadata": {},
   "outputs": [],
   "source": [
    "#Functions \n",
    "\n",
    "def remove_all(lt):\n",
    "    for i in range(len(lt)):\n",
    "        lt = unidecode(lt)\n",
    "    return(lt)\n",
    "\n",
    "def remove_emoji(string):\n",
    "    emoji_pattern = re.compile(\"[\"\n",
    "                           u\"\\U0001F600-\\U0001F64F\"  # emoticons\n",
    "                           u\"\\U0001F300-\\U0001F5FF\"  # symbols & pictographs\n",
    "                           u\"\\U0001F680-\\U0001F6FF\"  # transport & map symbols\n",
    "                           u\"\\U0001F1E0-\\U0001F1FF\"  # flags (iOS)\n",
    "                           u\"\\U00002702-\\U000027B0\"\n",
    "                           u\"\\U000024C2-\\U0001F251\"\n",
    "                           \"]+\", flags=re.UNICODE)\n",
    "    return emoji_pattern.sub(r'', string)\n",
    "\n",
    "def chr_remove(old, to_remove):\n",
    "    new_string = old\n",
    "    for x in to_remove:\n",
    "        new_string = new_string.replace(x, '')\n",
    "    return new_string"
   ]
  },
  {
   "cell_type": "code",
   "execution_count": 136,
   "metadata": {},
   "outputs": [],
   "source": [
    "def filter2(word,lt, lower, emoji, unidecode, char):\n",
    "    aux = lt\n",
    "    ret_list = []\n",
    "    j = 0\n",
    "    for i in range(len(lt)):\n",
    "        if word in aux[i][0].lower():\n",
    "            ret_list.append(aux[i])\n",
    "            if lower:\n",
    "                ret_list[j][0] = ret_list[j][0].lower()\n",
    "            if unidecode:\n",
    "                ret_list[j][0] = remove_all(ret_list[j][0])\n",
    "            elif emoji:\n",
    "                ret_list[j][0] = remove_emoji(ret_list[j][0])\n",
    "            if char:\n",
    "                ret_list[j][0] = chr_remove(ret_list[j][0], ';,')\n",
    "            if lower or unidecode or emoji:\n",
    "                j += 1\n",
    "    return(ret_list)"
   ]
  },
  {
   "cell_type": "code",
   "execution_count": 137,
   "metadata": {},
   "outputs": [],
   "source": [
    "corona = filter2('corona', tweet, True, False, True, True)"
   ]
  },
  {
   "cell_type": "code",
   "execution_count": 140,
   "metadata": {},
   "outputs": [],
   "source": [
    " # write .csv\n",
    "file = 'corona.csv'\n",
    "with open(file, 'w' ) as sample:\n",
    "    writer = csv.writer(sample, delimiter  = ',')\n",
    "    for row in corona:\n",
    "        writer.writerow(row)"
   ]
  }
 ],
 "metadata": {
  "kernelspec": {
   "display_name": "Python 3",
   "language": "python",
   "name": "python3"
  },
  "language_info": {
   "codemirror_mode": {
    "name": "ipython",
    "version": 3
   },
   "file_extension": ".py",
   "mimetype": "text/x-python",
   "name": "python",
   "nbconvert_exporter": "python",
   "pygments_lexer": "ipython3",
   "version": "3.7.6"
  }
 },
 "nbformat": 4,
 "nbformat_minor": 4
}
